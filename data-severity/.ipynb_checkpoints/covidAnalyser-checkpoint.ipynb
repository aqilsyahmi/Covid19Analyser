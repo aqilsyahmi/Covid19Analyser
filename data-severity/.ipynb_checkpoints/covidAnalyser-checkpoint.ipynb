{
 "cells": [
  {
   "cell_type": "code",
   "execution_count": 2,
   "id": "fad96705-586f-4bbd-a37f-52b7297c9a94",
   "metadata": {},
   "outputs": [
    {
     "ename": "SyntaxError",
     "evalue": "invalid syntax (<ipython-input-2-bb067853ecd6>, line 12)",
     "output_type": "error",
     "traceback": [
      "\u001b[1;36m  File \u001b[1;32m\"<ipython-input-2-bb067853ecd6>\"\u001b[1;36m, line \u001b[1;32m12\u001b[0m\n\u001b[1;33m    def readTwoColumnOfCsvFromRowXToRowY(str(path)+\"/\"+csvFile, firstColumnName, secondColumnName, start, end):\u001b[0m\n\u001b[1;37m                                            ^\u001b[0m\n\u001b[1;31mSyntaxError\u001b[0m\u001b[1;31m:\u001b[0m invalid syntax\n"
     ]
    }
   ],
   "source": [
    "import pandas as pd\n",
    "\n",
    "# Input: csvFileName - String of csv file name\n",
    "# Output: Returns csv file\n",
    "def readCsv(csvFileName):\n",
    "    df = pd.read_csv(csvFileName)\n",
    "    return df\n",
    "\n",
    "def readTwoColumnOfCsvFromRowXToRowY(csvFile, firstColumnName, secondColumnName, start, end):\n",
    "    fullList = csvFile[[firstColumnName, secondColumnName]]\n",
    "    return fullList.iloc[start:end]\n",
    "\n",
    "\n",
    "# Input: csvFile - String of csv file to read\n",
    "#        columnName - String of column to read\n",
    "#        noOfRows - Integer of rows to read (default is 0)\n",
    "# Output: Return a column of csv file\n",
    "def readCsvByColumnName(csvFile, columnName, noOfRows=0):\n",
    "    if noOfRows == 0:\n",
    "        return csvFile[columnName]\n",
    "    else:\n",
    "        return csvFile[columnName][0:noOfRows]\n",
    "\n",
    "# Input: csvFile - String of csv file to read\n",
    "#        noOfRows - Integer of rows to read (default is 0)\n",
    "# Output: Return rows of csv file (default is 0. Example: 2 returns first two rows)\n",
    "def readCsvByRow(csvFile, noOfRows=0):\n",
    "    if noOfRows == 0:\n",
    "        return csvFile\n",
    "    else:\n",
    "        return csvFile.head(noOfRows)\n",
    "\n",
    "# Input: csvFile - String of csv file to read\n",
    "#        start - Start position to read from\n",
    "#        end - Last position to read until (includes this row)\n",
    "# Output: Return rows of csv file\n",
    "def readCsvFromRowXToRowY(csvFile, start, end):\n",
    "    return csvFile.iloc[start:end]\n",
    "\n",
    "# Input: csvFile - String of csv file to read\n",
    "#        columnName - String name of column to read\n",
    "#        start - Start position to read from\n",
    "#        end - Last position to read until (includes this row)\n",
    "# Output: Return rows of csv file\n",
    "def readCsvOfAColumnFromRowXToRowY(csvFile,columnName , start, end):\n",
    "    if end == ':':\n",
    "        return csvFile[columnName].iloc[start:]\n",
    "    return csvFile[columnName].iloc[start:end]\n",
    "\n",
    "# Input: csvFile - String of csv file to read\n",
    "#        csvColumn - String of csvColumn to read\n",
    "# Output: Return int value of column of cell with the highest value (E,g return 650 if it is highest in any cell in a column)\n",
    "def getMaxValueOfAColumn(csvFile, csvColumn):\n",
    "    maxValue = csvFile[csvColumn].max()\n",
    "    return maxValue\n",
    "\n"
   ]
  },
  {
   "cell_type": "code",
   "execution_count": null,
   "id": "1056eafe-3e82-4cda-9eb1-82f99d1f9bda",
   "metadata": {},
   "outputs": [],
   "source": []
  }
 ],
 "metadata": {
  "kernelspec": {
   "display_name": "Python 3",
   "language": "python",
   "name": "python3"
  },
  "language_info": {
   "codemirror_mode": {
    "name": "ipython",
    "version": 3
   },
   "file_extension": ".py",
   "mimetype": "text/x-python",
   "name": "python",
   "nbconvert_exporter": "python",
   "pygments_lexer": "ipython3",
   "version": "3.8.8"
  }
 },
 "nbformat": 4,
 "nbformat_minor": 5
}
